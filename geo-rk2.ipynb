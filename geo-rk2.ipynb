{
 "cells": [
  {
   "cell_type": "markdown",
   "metadata": {},
   "source": [
    "# Staging Geo-coding test data\n",
    "\n",
    "ref [GPC:ticket:140][140]\n",
    "\n",
    "[140]: https://informatics.gpcnetwork.org/trac/Project/ticket/140\n",
    "\n",
    "Subject: example data dictionary/codebook and data file  \n",
    "From: David Van Riper [mailto:vanriper@umn.edu]  \n",
    "Sent: Tuesday, July 07, 2015 1:34 PM  \n",
    "To: Mei Liu  \n",
    " \n",
    "fwd by Mei Tuesday, July 07, 2015 1:54 PM"
   ]
  },
  {
   "cell_type": "code",
   "execution_count": 63,
   "metadata": {
    "collapsed": false
   },
   "outputs": [
    {
     "data": {
      "text/plain": [
       "{'numpy': u'0.19.0', 'pandas': u'0.19.0'}"
      ]
     },
     "execution_count": 63,
     "metadata": {},
     "output_type": "execute_result"
    }
   ],
   "source": [
    "import pandas as pd\n",
    "import numpy as np\n",
    "dict(pandas=pd.__version__,\n",
    "     numpy=pd.__version__)"
   ]
  },
  {
   "cell_type": "markdown",
   "metadata": {},
   "source": [
    "## Field Definitions"
   ]
  },
  {
   "cell_type": "code",
   "execution_count": 64,
   "metadata": {
    "collapsed": false
   },
   "outputs": [
    {
     "data": {
      "text/html": [
       "<div>\n",
       "<table border=\"1\" class=\"dataframe\">\n",
       "  <thead>\n",
       "    <tr style=\"text-align: right;\">\n",
       "      <th></th>\n",
       "      <th>data_type</th>\n",
       "      <th>variable_code</th>\n",
       "      <th>variable_label</th>\n",
       "    </tr>\n",
       "  </thead>\n",
       "  <tbody>\n",
       "    <tr>\n",
       "      <th>0</th>\n",
       "      <td>t</td>\n",
       "      <td>FILEID</td>\n",
       "      <td>Always equal to ACS Summary File identification</td>\n",
       "    </tr>\n",
       "    <tr>\n",
       "      <th>1</th>\n",
       "      <td>t</td>\n",
       "      <td>STUSAB</td>\n",
       "      <td>State Postal Abbreviation</td>\n",
       "    </tr>\n",
       "    <tr>\n",
       "      <th>2</th>\n",
       "      <td>t</td>\n",
       "      <td>SUMLEVEL</td>\n",
       "      <td>Summary Level</td>\n",
       "    </tr>\n",
       "    <tr>\n",
       "      <th>3</th>\n",
       "      <td>t</td>\n",
       "      <td>COMPONENT</td>\n",
       "      <td>Geographic Component</td>\n",
       "    </tr>\n",
       "    <tr>\n",
       "      <th>4</th>\n",
       "      <td>n</td>\n",
       "      <td>LOGRECNO</td>\n",
       "      <td>Logical Record Number</td>\n",
       "    </tr>\n",
       "  </tbody>\n",
       "</table>\n",
       "</div>"
      ],
      "text/plain": [
       "  data_type variable_code                                   variable_label\n",
       "0         t        FILEID  Always equal to ACS Summary File identification\n",
       "1         t        STUSAB                        State Postal Abbreviation\n",
       "2         t      SUMLEVEL                                    Summary Level\n",
       "3         t     COMPONENT                             Geographic Component\n",
       "4         n      LOGRECNO                            Logical Record Number"
      ]
     },
     "execution_count": 64,
     "metadata": {},
     "output_type": "execute_result"
    }
   ],
   "source": [
    "def mn_census_data():\n",
    "    from pathlib import Path\n",
    "    return Path('/d1/geo-census/mn-census-data')\n",
    "\n",
    "bk = pd.read_csv((mn_census_data() / 'acs_20135a/index_of_data_fields__acs_20135a.csv').open('rb'))\n",
    "bk[['data_type', 'variable_code', 'variable_label']].head()"
   ]
  },
  {
   "cell_type": "code",
   "execution_count": 65,
   "metadata": {
    "collapsed": false
   },
   "outputs": [
    {
     "data": {
      "text/plain": [
       "data_type                                                                 n\n",
       "dataset_code                                                2009_2013_ACS5a\n",
       "table_source_code                                                    B02012\n",
       "table_label               Native Hawaiian and Other Pacific Islander Alo...\n",
       "table_universe            Native Hawaiian and Other Pacific Islander alo...\n",
       "table_sequence                                                           21\n",
       "variable_sequence                                                         1\n",
       "variable_code                                                        UEW001\n",
       "variable_label                                                        Total\n",
       "start_column                                                           2133\n",
       "width                                                                     9\n",
       "implied_decimal_places                                                    0\n",
       "multiplier                                                                1\n",
       "appears_in_extracts                                                       1\n",
       "Name: 149, dtype: object"
      ]
     },
     "execution_count": 65,
     "metadata": {},
     "output_type": "execute_result"
    }
   ],
   "source": [
    "bk.iloc[149]"
   ]
  },
  {
   "cell_type": "code",
   "execution_count": 66,
   "metadata": {
    "collapsed": false,
    "scrolled": true
   },
   "outputs": [
    {
     "data": {
      "text/plain": [
       "Index([u'data_type', u'dataset_code', u'table_source_code', u'table_label',\n",
       "       u'table_universe', u'table_sequence', u'variable_sequence',\n",
       "       u'variable_code', u'variable_label', u'start_column', u'width',\n",
       "       u'implied_decimal_places', u'multiplier', u'appears_in_extracts'],\n",
       "      dtype='object')"
      ]
     },
     "execution_count": 66,
     "metadata": {},
     "output_type": "execute_result"
    }
   ],
   "source": [
    "bk.columns"
   ]
  },
  {
   "cell_type": "code",
   "execution_count": 67,
   "metadata": {
    "collapsed": false,
    "scrolled": true
   },
   "outputs": [
    {
     "data": {
      "text/plain": [
       "data_type                                                                 n\n",
       "dataset_code                                                2009_2013_ACS5a\n",
       "table_source_code                                                    B19013\n",
       "table_label               Median Household Income in the Past 12 Months ...\n",
       "table_universe                                                   Households\n",
       "table_sequence                                                          110\n",
       "variable_sequence                                                         1\n",
       "variable_code                                                        UHD001\n",
       "variable_label            Median household income in the past 12 months ...\n",
       "start_column                                                          16038\n",
       "width                                                                     9\n",
       "implied_decimal_places                                                    0\n",
       "multiplier                                                                1\n",
       "appears_in_extracts                                                       1\n",
       "Name: 1688, dtype: object"
      ]
     },
     "execution_count": 67,
     "metadata": {},
     "output_type": "execute_result"
    }
   ],
   "source": [
    "v = bk[bk.variable_code == 'UHD001'].iloc[0]\n",
    "# v = bk[bk.variable_code == 'FILEID'].iloc[0]\n",
    "v"
   ]
  },
  {
   "cell_type": "code",
   "execution_count": 5,
   "metadata": {
    "collapsed": false,
    "scrolled": false
   },
   "outputs": [],
   "source": [
    "# bk[bk.variable_label.str.contains('ducation')][['data_type', 'table_label', 'variable_code', 'variable_label', 'table_universe', u'table_sequence', u'variable_sequence']]"
   ]
  },
  {
   "cell_type": "code",
   "execution_count": 6,
   "metadata": {
    "collapsed": false
   },
   "outputs": [],
   "source": [
    "# bk[['table_source_code', 'table_label']].drop_duplicates().reset_index()"
   ]
  },
  {
   "cell_type": "code",
   "execution_count": 103,
   "metadata": {
    "collapsed": false
   },
   "outputs": [
    {
     "name": "stdout",
     "output_type": "stream",
     "text": [
      "create table acs_zcta_200 (\n",
      "  FILEID VARCHAR2(6),\n",
      "  STUSAB VARCHAR2(2),\n",
      "  SUMLEVEL VARCHAR2(3),\n",
      "  COMPONENT VARCHAR2(2),\n",
      "  LOGRECNO INTEGER\n",
      ") organization external (\n",
      "  type oracle_loader\n",
      "  default directory geo_census_stage\n",
      "  access parameters (\n",
      "    records delimited by newline\n",
      "    preprocessor staging_tools:'zcat.sh'\n",
      "    fields lrtrim\n",
      "    (\n",
      "      FILEID position (1-6) char(6),\n",
      "      STUSAB position (7-2) char(2),\n",
      "      SUMLEVEL position (9-3) char(3),\n",
      "      COMPONENT position (12-2) char(2),\n",
      "      LOGRECNO position (14-7) char(7) NULLIF LOGRECNO = '.'\n",
      "    )\n",
      "  )\n",
      "  location ('ge.00_file.dat.gz')\n",
      ")\n",
      "\n"
     ]
    }
   ],
   "source": [
    "from textwrap import dedent\n",
    "\n",
    "def column_def(field):\n",
    "    dty = ('INTEGER' if field.data_type == 'n'  # TODO: implied_decimal_places, multiplier\n",
    "           else 'VARCHAR2(%d)' % field.width)\n",
    "    return '  {name} {dty}'.format(name=field.variable_code, dty=dty)\n",
    "\n",
    "def field_spec(field):\n",
    "    return '      %s position (%d-%d) char(%d)%s' % (\n",
    "        field.variable_code,\n",
    "        field.start_column, field.width,\n",
    "        field.width,\n",
    "        (\" NULLIF %s = '.'\" % field.variable_code\n",
    "         if field.data_type == 'n' else ''))\n",
    "\n",
    "def table_def(name, location, fields,\n",
    "              data_dir='geo_census_stage',\n",
    "              tools_dir='staging_tools'):\n",
    "    if len(fields) > 1000:\n",
    "        raise ValueError('ORA-01792: maximum number of columns in a table or view is 1000')\n",
    "    coldefs = ',\\n'.join(column_def(f)\n",
    "                         for (_, f) in fields.iterrows())\n",
    "    field_list = ',\\n'.join(field_spec(f)\n",
    "                            for (_, f) in fields.iterrows())\n",
    "    return dedent('''\\\n",
    "    create table {name} (\n",
    "    {coldefs}\n",
    "    ) organization external (\n",
    "      type oracle_loader\n",
    "      default directory {data_dir}\n",
    "      access parameters (\n",
    "        records delimited by newline\n",
    "        preprocessor {tools_dir}:'zcat.sh'\n",
    "        fields lrtrim\n",
    "        (\n",
    "    {field_list}\n",
    "        )\n",
    "      )\n",
    "      location ('{location}')\n",
    "    )\n",
    "    ''').format(\n",
    "        name=name, coldefs=coldefs, field_list=field_list, location=location,\n",
    "        data_dir=data_dir, tools_dir=tools_dir)\n",
    "\n",
    "print table_def('acs_zcta_200', 'ge.00_file.dat.gz', bk[:5])"
   ]
  },
  {
   "cell_type": "code",
   "execution_count": 125,
   "metadata": {
    "collapsed": false
   },
   "outputs": [
    {
     "data": {
      "text/plain": [
       "[(0, 761), (1, 740), (2, 745), (3, 762), (4, 742), (5, 427)]"
      ]
     },
     "execution_count": 125,
     "metadata": {},
     "output_type": "execute_result"
    }
   ],
   "source": [
    "def field_groups(all_fields,\n",
    "                 last_key='NAME', max_columns=1000):\n",
    "    n_keys = all_fields[all_fields.variable_code == last_key].index.values[0]\n",
    "    group = all_fields[:n_keys]\n",
    "    g_ix = 0\n",
    "    for table_code in all_fields.table_source_code[n_keys + 1:].unique():\n",
    "        # print '========', table_code\n",
    "        table_fields = all_fields[all_fields.table_source_code == table_code]\n",
    "        # print table_fields.index\n",
    "        if len(group) + len(table_fields) > max_columns:\n",
    "            yield g_ix, group\n",
    "            g_ix += 1\n",
    "            group = all_fields[:n_keys]\n",
    "        group = group.append(table_fields)\n",
    "    if len(group) > n_keys:\n",
    "        yield g_ix, group\n",
    "\n",
    "[(ix, len(g)) for (ix, g) in field_groups(bk, max_columns=768)]"
   ]
  },
  {
   "cell_type": "code",
   "execution_count": 126,
   "metadata": {
    "collapsed": false
   },
   "outputs": [],
   "source": [
    "with open('geo_acs_tables.sql', 'wb') as out:\n",
    "    for g_ix, grp in field_groups(bk, max_columns=768):\n",
    "        out.write(table_def('acs_zcta_%d' % g_ix, 'ge.00_file.dat.gz', grp))\n",
    "        out.write(';\\n\\n')"
   ]
  },
  {
   "cell_type": "markdown",
   "metadata": {},
   "source": [
    "## Income Field\n",
    "\n",
    "Desired fields, from #140:\n",
    ">  - Income, education, likelihood of employment, poverty status, owner-occupied house value, health insurance coverage, etc.\n",
    "\n",
    "Let's start with just income by zip."
   ]
  },
  {
   "cell_type": "code",
   "execution_count": 80,
   "metadata": {
    "collapsed": false,
    "scrolled": true
   },
   "outputs": [
    {
     "data": {
      "text/html": [
       "<div>\n",
       "<table border=\"1\" class=\"dataframe\">\n",
       "  <thead>\n",
       "    <tr style=\"text-align: right;\">\n",
       "      <th></th>\n",
       "      <th>data_type</th>\n",
       "      <th>table_label</th>\n",
       "      <th>table_universe</th>\n",
       "      <th>variable_code</th>\n",
       "      <th>variable_label</th>\n",
       "    </tr>\n",
       "  </thead>\n",
       "  <tbody>\n",
       "    <tr>\n",
       "      <th>37</th>\n",
       "      <td>t</td>\n",
       "      <td>NaN</td>\n",
       "      <td>NaN</td>\n",
       "      <td>ZCTA5</td>\n",
       "      <td>5-digit ZIP Code Tabulation Area</td>\n",
       "    </tr>\n",
       "    <tr>\n",
       "      <th>49</th>\n",
       "      <td>t</td>\n",
       "      <td>NaN</td>\n",
       "      <td>NaN</td>\n",
       "      <td>NAME</td>\n",
       "      <td>Area Name</td>\n",
       "    </tr>\n",
       "    <tr>\n",
       "      <th>113</th>\n",
       "      <td>n</td>\n",
       "      <td>Median Age by Sex (American Indian and Alaska ...</td>\n",
       "      <td>People who are American Indian and Alaska Nati...</td>\n",
       "      <td>UEI001</td>\n",
       "      <td>Median age: Total</td>\n",
       "    </tr>\n",
       "    <tr>\n",
       "      <th>1688</th>\n",
       "      <td>n</td>\n",
       "      <td>Median Household Income in the Past 12 Months ...</td>\n",
       "      <td>Households</td>\n",
       "      <td>UHD001</td>\n",
       "      <td>Median household income in the past 12 months ...</td>\n",
       "    </tr>\n",
       "  </tbody>\n",
       "</table>\n",
       "</div>"
      ],
      "text/plain": [
       "     data_type                                        table_label  \\\n",
       "37           t                                                NaN   \n",
       "49           t                                                NaN   \n",
       "113          n  Median Age by Sex (American Indian and Alaska ...   \n",
       "1688         n  Median Household Income in the Past 12 Months ...   \n",
       "\n",
       "                                         table_universe variable_code  \\\n",
       "37                                                  NaN         ZCTA5   \n",
       "49                                                  NaN          NAME   \n",
       "113   People who are American Indian and Alaska Nati...        UEI001   \n",
       "1688                                         Households        UHD001   \n",
       "\n",
       "                                         variable_label  \n",
       "37                     5-digit ZIP Code Tabulation Area  \n",
       "49                                            Area Name  \n",
       "113                                   Median age: Total  \n",
       "1688  Median household income in the past 12 months ...  "
      ]
     },
     "execution_count": 80,
     "metadata": {},
     "output_type": "execute_result"
    }
   ],
   "source": [
    "# vars = bk[bk.variable_code.isin(['ZCTA5', 'UHD001', 'UG4011', 'UGS001', 'UGS012', 'UGS017'])]\n",
    "income_vars = bk[bk.variable_code.isin(['ZCTA5', 'UHD001', 'UEI001', 'NAME'])]\n",
    "\n",
    "income_vars[['data_type', 'table_label', 'table_universe', 'variable_code', 'variable_label']]"
   ]
  },
  {
   "cell_type": "code",
   "execution_count": 128,
   "metadata": {
    "collapsed": false
   },
   "outputs": [
    {
     "data": {
      "text/plain": [
       "'Median household income in the past 12 months (in 2013 inflation-adjusted dollars)'"
      ]
     },
     "execution_count": 128,
     "metadata": {},
     "output_type": "execute_result"
    }
   ],
   "source": [
    "income_vars.variable_label.iloc[3]"
   ]
  },
  {
   "cell_type": "code",
   "execution_count": 8,
   "metadata": {
    "collapsed": false
   },
   "outputs": [],
   "source": [
    "# Education\n",
    "# ed = bk[bk.table_source_code.isin(['B15003'])]\n",
    "# ed[['data_type', 'table_label', 'table_universe', 'variable_code', 'variable_label']]"
   ]
  },
  {
   "cell_type": "markdown",
   "metadata": {},
   "source": [
    "## Data Files"
   ]
  },
  {
   "cell_type": "markdown",
   "metadata": {},
   "source": [
    "Data files are provided at various resolutions including state, county, zip code, all the way to the census block group:"
   ]
  },
  {
   "cell_type": "code",
   "execution_count": 9,
   "metadata": {
    "collapsed": false
   },
   "outputs": [
    {
     "name": "stdout",
     "output_type": "stream",
     "text": [
      "   372 /d1/geo-census/mn-census-data/acs_20135a/metdiv_314/ge.00_file.dat.gz\r\n",
      "   652 /d1/geo-census/mn-census-data/acs_20135a/state_040/ge.00_file.dat.gz\r\n",
      "  8448 /d1/geo-census/mn-census-data/acs_20135a/cbsa_310/ge.00_file.dat.gz\r\n",
      " 24176 /d1/geo-census/mn-census-data/acs_20135a/urb_area_400/ge.00_file.dat.gz\r\n",
      " 25144 /d1/geo-census/mn-census-data/acs_20135a/county_050/ge.00_file.dat.gz\r\n",
      "169080 /d1/geo-census/mn-census-data/acs_20135a/cty_sub_060/ge.00_file.dat.gz\r\n",
      "174060 /d1/geo-census/mn-census-data/acs_20135a/zcta_860/ge.00_file.dat.gz\r\n",
      "280628 /d1/geo-census/mn-census-data/acs_20135a/place_070/ge.00_file.dat.gz\r\n",
      "913112 /d1/geo-census/mn-census-data/acs_20135a/blck_grp_150/ge.00_file.dat.gz\r\n"
     ]
    }
   ],
   "source": [
    "!ls -s /d1/geo-census/mn-census-data/acs_20135a/*/*file.dat.gz | sort -n"
   ]
  },
  {
   "cell_type": "markdown",
   "metadata": {},
   "source": [
    "We can decompress and pick out the first line..."
   ]
  },
  {
   "cell_type": "code",
   "execution_count": 69,
   "metadata": {
    "collapsed": false
   },
   "outputs": [
    {
     "data": {
      "text/plain": [
       "'ACSSF PR860000007371                    '"
      ]
     },
     "execution_count": 69,
     "metadata": {},
     "output_type": "execute_result"
    }
   ],
   "source": [
    "import gzip\n",
    "\n",
    "# Zip code level data\n",
    "zcta_860 = mn_census_data() / 'acs_20135a/zcta_860/ge.00_file.dat.gz'\n",
    "\n",
    "line0 = gzip.GzipFile(zcta_860.name,\n",
    "                      fileobj=zcta_860.open('rb')).readline()\n",
    "line0[:40]"
   ]
  },
  {
   "cell_type": "markdown",
   "metadata": {},
   "source": [
    "... and then pick out the median household income field (UHD001):"
   ]
  },
  {
   "cell_type": "code",
   "execution_count": 70,
   "metadata": {
    "collapsed": false
   },
   "outputs": [
    {
     "data": {
      "text/plain": [
       "'    12041'"
      ]
     },
     "execution_count": 70,
     "metadata": {},
     "output_type": "execute_result"
    }
   ],
   "source": [
    "line0[v.start_column - 1:v.start_column - 1 + v.width]"
   ]
  },
  {
   "cell_type": "markdown",
   "metadata": {},
   "source": [
    "Recall that's a numeric (n) field. Let's parse a dictionary record from a line and a selection of fields:"
   ]
  },
  {
   "cell_type": "code",
   "execution_count": 71,
   "metadata": {
    "collapsed": false
   },
   "outputs": [
    {
     "data": {
      "text/plain": [
       "{'STUSAB': 'PR', 'UHD001': 12041.0, 'ZCTA5': '00601'}"
      ]
     },
     "execution_count": 71,
     "metadata": {},
     "output_type": "execute_result"
    }
   ],
   "source": [
    "SUPPRESSED = '.'  # per UMN folks\n",
    "\n",
    "def parse_n(s, implied_decimal_places):\n",
    "    return (float(s) / (10 ** implied_decimal_places)\n",
    "            if s.strip() != SUPPRESSED\n",
    "            else None)\n",
    "\n",
    "def parse_field(s, f):\n",
    "    return parse_n(s, f.implied_decimal_places) if f.data_type == 'n' else s\n",
    "\n",
    "def parse_record(line, fields):\n",
    "    return dict((f.variable_code,\n",
    "                 parse_field(line[f.start_column - 1:f.start_column - 1 + f.width], f))\n",
    "                for _, f in fields.iterrows())\n",
    "\n",
    "parse_record(line0, bk[bk.variable_code.isin(['STUSAB', 'ZCTA5', 'UHD001'])])"
   ]
  },
  {
   "cell_type": "markdown",
   "metadata": {},
   "source": [
    "Now we can parse a record from each line in a data file and make a data frame:"
   ]
  },
  {
   "cell_type": "code",
   "execution_count": 72,
   "metadata": {
    "collapsed": false
   },
   "outputs": [
    {
     "data": {
      "text/html": [
       "<div>\n",
       "<table border=\"1\" class=\"dataframe\">\n",
       "  <thead>\n",
       "    <tr style=\"text-align: right;\">\n",
       "      <th></th>\n",
       "      <th>UEI001</th>\n",
       "      <th>UHD001</th>\n",
       "    </tr>\n",
       "    <tr>\n",
       "      <th>ZCTA5</th>\n",
       "      <th></th>\n",
       "      <th></th>\n",
       "    </tr>\n",
       "  </thead>\n",
       "  <tbody>\n",
       "    <tr>\n",
       "      <th>00601</th>\n",
       "      <td>NaN</td>\n",
       "      <td>12041.0</td>\n",
       "    </tr>\n",
       "    <tr>\n",
       "      <th>00602</th>\n",
       "      <td>NaN</td>\n",
       "      <td>15663.0</td>\n",
       "    </tr>\n",
       "    <tr>\n",
       "      <th>00603</th>\n",
       "      <td>NaN</td>\n",
       "      <td>15485.0</td>\n",
       "    </tr>\n",
       "    <tr>\n",
       "      <th>00606</th>\n",
       "      <td>NaN</td>\n",
       "      <td>15019.0</td>\n",
       "    </tr>\n",
       "    <tr>\n",
       "      <th>00610</th>\n",
       "      <td>NaN</td>\n",
       "      <td>16707.0</td>\n",
       "    </tr>\n",
       "  </tbody>\n",
       "</table>\n",
       "</div>"
      ],
      "text/plain": [
       "       UEI001   UHD001\n",
       "ZCTA5                 \n",
       "00601     NaN  12041.0\n",
       "00602     NaN  15663.0\n",
       "00603     NaN  15485.0\n",
       "00606     NaN  15019.0\n",
       "00610     NaN  16707.0"
      ]
     },
     "execution_count": 72,
     "metadata": {},
     "output_type": "execute_result"
    }
   ],
   "source": [
    "def load_lines(lines, fields):\n",
    "    return pd.DataFrame([\n",
    "            parse_record(line, fields)\n",
    "            for (lineno, line) in enumerate(lines)\n",
    "        ])\n",
    "\n",
    "\n",
    "\n",
    "income_by_zip = load_lines(gzip.GzipFile(zcta_860.name, fileobj=zcta_860.open('rb')), income_vars).set_index('ZCTA5')\n",
    "income_by_zip.head()"
   ]
  },
  {
   "cell_type": "code",
   "execution_count": 74,
   "metadata": {
    "collapsed": false
   },
   "outputs": [
    {
     "data": {
      "text/plain": [
       "'Median age: Total'"
      ]
     },
     "execution_count": 74,
     "metadata": {},
     "output_type": "execute_result"
    }
   ],
   "source": [
    "income_vars.variable_label.iloc[1]"
   ]
  },
  {
   "cell_type": "code",
   "execution_count": 16,
   "metadata": {
    "collapsed": false
   },
   "outputs": [
    {
     "data": {
      "text/html": [
       "<div>\n",
       "<table border=\"1\" class=\"dataframe\">\n",
       "  <thead>\n",
       "    <tr style=\"text-align: right;\">\n",
       "      <th></th>\n",
       "      <th>zip_code</th>\n",
       "    </tr>\n",
       "    <tr>\n",
       "      <th>patient_num</th>\n",
       "      <th></th>\n",
       "    </tr>\n",
       "  </thead>\n",
       "  <tbody>\n",
       "    <tr>\n",
       "      <th>1</th>\n",
       "      <td>64108</td>\n",
       "    </tr>\n",
       "    <tr>\n",
       "      <th>2</th>\n",
       "      <td>90210</td>\n",
       "    </tr>\n",
       "  </tbody>\n",
       "</table>\n",
       "</div>"
      ],
      "text/plain": [
       "            zip_code\n",
       "patient_num         \n",
       "1              64108\n",
       "2              90210"
      ]
     },
     "execution_count": 16,
     "metadata": {},
     "output_type": "execute_result"
    }
   ],
   "source": [
    "from io import StringIO\n",
    "\n",
    "patient_dimension = pd.read_csv(StringIO(u\"\"\"\n",
    "patient_num,zip_code\n",
    "1,64108\n",
    "2,90210\n",
    "\"\"\".strip()), index_col='patient_num', dtype=dict(zip_code='object'))\n",
    "patient_dimension"
   ]
  },
  {
   "cell_type": "code",
   "execution_count": 17,
   "metadata": {
    "collapsed": false,
    "scrolled": true
   },
   "outputs": [
    {
     "data": {
      "text/html": [
       "<div>\n",
       "<table border=\"1\" class=\"dataframe\">\n",
       "  <thead>\n",
       "    <tr style=\"text-align: right;\">\n",
       "      <th></th>\n",
       "      <th>zip_code</th>\n",
       "      <th>UHD001</th>\n",
       "    </tr>\n",
       "    <tr>\n",
       "      <th>patient_num</th>\n",
       "      <th></th>\n",
       "      <th></th>\n",
       "    </tr>\n",
       "  </thead>\n",
       "  <tbody>\n",
       "    <tr>\n",
       "      <th>1</th>\n",
       "      <td>64108</td>\n",
       "      <td>35521.0</td>\n",
       "    </tr>\n",
       "    <tr>\n",
       "      <th>2</th>\n",
       "      <td>90210</td>\n",
       "      <td>132254.0</td>\n",
       "    </tr>\n",
       "  </tbody>\n",
       "</table>\n",
       "</div>"
      ],
      "text/plain": [
       "            zip_code    UHD001\n",
       "patient_num                   \n",
       "1              64108   35521.0\n",
       "2              90210  132254.0"
      ]
     },
     "execution_count": 17,
     "metadata": {},
     "output_type": "execute_result"
    }
   ],
   "source": [
    "patient_dimension.merge(income_by_zip, how='left', left_on='zip_code', right_index=True)"
   ]
  },
  {
   "cell_type": "code",
   "execution_count": null,
   "metadata": {
    "collapsed": true
   },
   "outputs": [],
   "source": [
    "http://www.oracle.com/technetwork/issue-archive/2011/11-mar/o21nanda-312277.html"
   ]
  }
 ],
 "metadata": {
  "kernelspec": {
   "display_name": "Whaleshark rk hetlog",
   "language": "python",
   "name": "template"
  },
  "language_info": {
   "codemirror_mode": {
    "name": "ipython",
    "version": 2
   },
   "file_extension": ".py",
   "mimetype": "text/x-python",
   "name": "python",
   "nbconvert_exporter": "python",
   "pygments_lexer": "ipython2",
   "version": "2.7.12"
  }
 },
 "nbformat": 4,
 "nbformat_minor": 0
}
